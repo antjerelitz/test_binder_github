{
 "cells": [
  {
   "cell_type": "markdown",
   "metadata": {},
   "source": [
    "# Test if installation was successful"
   ]
  },
  {
   "cell_type": "code",
   "execution_count": null,
   "metadata": {},
   "outputs": [],
   "source": [
    "# check versions of the libraries\n",
    "import numpy\n",
    "print(\"numpy\", numpy.__version__)\n",
    "import pandas\n",
    "print(\"pandas\", pandas.__version__)      # >= 0.24\n",
    "import scipy\n",
    "print(\"scipy\", scipy.__version__)\n",
    "import sklearn\n",
    "print(\"sklearn\", sklearn.__version__)    # >= 0.20\n",
    "import matplotlib\n",
    "print(\"matplotlib\", matplotlib.__version__)\n",
    "import plotly\n",
    "print(\"plotly\", plotly.__version__)\n",
    "import graphviz\n",
    "print(\"graphviz\", graphviz.__version__)\n",
    "from sklearn import tree\n",
    "clf = tree.DecisionTreeClassifier(max_depth=2)\n",
    "clf = clf.fit(numpy.random.randn(10, 2), 5*[1,2])\n",
    "# plot the graph\n",
    "dot_data = tree.export_graphviz(clf, out_file=None, feature_names=[1,2], filled=True, class_names=numpy.array(clf.classes_, dtype=str)) \n",
    "graph = graphviz.Source(dot_data)\n",
    "print(\"Congratulations! Your installation was successful!\")\n",
    "graph"
   ]
  },
  {
   "cell_type": "code",
   "execution_count": null,
   "metadata": {},
   "outputs": [],
   "source": []
  }
 ],
 "metadata": {
  "kernelspec": {
   "display_name": "Python 3",
   "language": "python",
   "name": "python3"
  },
  "language_info": {
   "codemirror_mode": {
    "name": "ipython",
    "version": 3
   },
   "file_extension": ".py",
   "mimetype": "text/x-python",
   "name": "python",
   "nbconvert_exporter": "python",
   "pygments_lexer": "ipython3",
   "version": "3.7.4"
  }
 },
 "nbformat": 4,
 "nbformat_minor": 2
}
